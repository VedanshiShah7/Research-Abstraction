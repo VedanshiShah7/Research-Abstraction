{
  "nbformat": 4,
  "nbformat_minor": 0,
  "metadata": {
    "colab": {
      "provenance": [],
      "authorship_tag": "ABX9TyO6hd7VNwrJbENuv+ESclIP",
      "include_colab_link": true
    },
    "kernelspec": {
      "name": "python3",
      "display_name": "Python 3"
    },
    "language_info": {
      "name": "python"
    }
  },
  "cells": [
    {
      "cell_type": "markdown",
      "metadata": {
        "id": "view-in-github",
        "colab_type": "text"
      },
      "source": [
        "<a href=\"https://colab.research.google.com/github/VedanshiShah7/Research-Abstraction/blob/main/Research_abstraction.ipynb\" target=\"_parent\"><img src=\"https://colab.research.google.com/assets/colab-badge.svg\" alt=\"Open In Colab\"/></a>"
      ]
    },
    {
      "cell_type": "markdown",
      "source": [
        "# ScholarSift\n",
        "### Discovering Academic Insights\n",
        "\n",
        "## [Reference Figma link](https://www.figma.com/file/vrTKfIj7JLQiGGjfYoSg9U/Research-abstraction?type=design&node-id=6%3A98&mode=design&t=5F1bZSiaRNkLXXbt-1)\n",
        "\n",
        "#### Todo:\n",
        "- Web scraping algorithm to collect all the data\n",
        "  - Create a table with the abstract, references, methodologies, results, conclusion, future prompts\n",
        "- Create a frontend\n",
        "- Summariser\n",
        "  - Abstract\n",
        "  - References\n",
        "  - Methodology\n",
        "  - Results\n",
        "  - Conclusion\n",
        "  - Future prompts\n",
        "- Summariser of the summaries"
      ],
      "metadata": {
        "id": "ArLKHLkjiMFt"
      }
    },
    {
      "cell_type": "code",
      "execution_count": null,
      "metadata": {
        "id": "5R6h2uMv7_Wz"
      },
      "outputs": [],
      "source": []
    }
  ]
}